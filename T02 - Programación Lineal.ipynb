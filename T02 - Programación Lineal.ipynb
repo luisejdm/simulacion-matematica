{
 "cells": [
  {
   "cell_type": "markdown",
   "metadata": {},
   "source": [
    "### Luis Eduardo Jiménez del Muro   -   05/09/2023"
   ]
  },
  {
   "cell_type": "markdown",
   "metadata": {},
   "source": [
    "# Tarea - Programación lineal"
   ]
  },
  {
   "cell_type": "markdown",
   "metadata": {},
   "source": [
    "### Diseño de la Dieta Óptima\n",
    "\n",
    "Se quiere producir comida para gatos de la manera más barata, no obstante se debe también asegurar que se cumplan los datos requeridos de analisis nutricional. Por lo que se quiere variar la cantidad de cada ingrediente para cumplir con los estandares nutricionales. Los requisitos que se tienen es que en $100$ gramos, se deben tener **por lo menos** $8$ gramos de proteína y $6$ gramos de grasa. Así mismo, no se debe tener más de $2$ gramos de fibra y $0.4$ gramos de sal.  \n",
    "\n",
    "Los datos nutricionales se pueden obtener de la siguiente tabla:\n",
    "\n",
    "Ingrediente|Proteína|Grasa|Fibra|Sal\n",
    ":----|----|----|----|----\n",
    "Pollo|  10.0%|08.0%|00.1%|00.2%\n",
    "Carne|  20.0%|10.0%|00.5%|00.5%\n",
    "Cordero|15.0%|11.0%|00.5%|00.7%\n",
    "Arroz|  00.0%|01.0%|10.0%|00.2%\n",
    "Trigo|  04.0%|01.0%|15.0%|00.8%\n",
    "Gel|    00.0%|00.0%|00.0%|00.0%\n",
    "\n",
    "Los costos de cada producto son:\n",
    "\n",
    "Ingrediente|Costo por gramo\n",
    ":----|----\n",
    "Pollo|$\\$$0.013\n",
    "Carne|$\\$$0.008\n",
    "Cordero|$\\$$0.010\n",
    "Arroz|$\\$$0.002\n",
    "Trigo|$\\$$0.005\n",
    "Gel|$\\$$0.001    \n",
    "\n",
    "Lo que se busca optimizar en este caso es la cantidad de productos que se debe utilizar en la comida de gato, minimizando el costo total. Para simplificar la notación use las siguientes variables: \n",
    "\n",
    "+ $x_1:$ Gramos de pollo  \n",
    "+ $x_2:$ Gramos de carne  \n",
    "+ $x_3:$ Gramos de cordero  \n",
    "+ $x_4:$ Gramos de arroz  \n",
    "+ $x_5:$ Gramos de trigo  \n",
    "+ $x_6:$ Gramos de gel\n",
    "\n",
    "La tarea consiste en plantear el problemade programación lineal que permita satisfacer las necesidades alimenticias del gato al tiempo que minimice el costo total y resolverlo con `linprog`."
   ]
  },
  {
   "cell_type": "markdown",
   "metadata": {},
   "source": [
    "#### 1. Criterio de optimización:\n",
    "Minimización de costos de la producción del alimento que cumpla con las necesidades del gato."
   ]
  },
  {
   "cell_type": "markdown",
   "metadata": {},
   "source": [
    "#### 2. Función de costos:\n",
    "$$ C = 0.013x_1 + 0.008x_2 + 0.010x_3 + 0.002x_4 + 0.005x_5 + 0.001x_6 $$"
   ]
  },
  {
   "cell_type": "markdown",
   "metadata": {},
   "source": [
    "#### 3. Restricciones:\n",
    "- **Mínimo de proteína:**\n",
    "$ 0.10𝑥_1 + 0.20𝑥_2 + 0.15𝑥_3 + 0.00𝑥_4 + 0.04𝑥_5 + 0.00𝑥_6 ≥ 8 $\n",
    "\n",
    "- **Mínimo de grasa:**\n",
    "$ 0.08𝑥_1 + 0.10𝑥_2 + 0.11𝑥_3 + 0.01𝑥_4 + 0.01𝑥_5 + 0.00𝑥_6 ≥ 6 $\n",
    "\n",
    "- **Fibra máxima**\n",
    "$ 0.001𝑥_1 + 0.005𝑥_2 + 0.005𝑥_3 + 0.10𝑥_4 + 0.15𝑥_5 + 0.00𝑥_6 ≤ 2 $\n",
    "\n",
    "- **Sal máxima**\n",
    "$ 0.002𝑥_1 + 0.005𝑥_2 + 0.007𝑥_3 + 0.002𝑥_4 + 0.008𝑥_5 + 0.00𝑥_6 ≤ 0.4 $"
   ]
  },
  {
   "cell_type": "markdown",
   "metadata": {},
   "source": [
    "#### 3. Restricciones (cambiando signo para que todos sean menor igual):\n",
    "- **Mínimo de proteína:**\n",
    "$ -0.10𝑥_1 - 0.20𝑥_2 - 0.15𝑥_3 - 0.00𝑥_4 - 0.04𝑥_5 - 0.00𝑥_6 ≤ -8 $\n",
    "\n",
    "- **Mínimo de grasa:**\n",
    "$ -0.08𝑥_1 - 0.10𝑥_2 - 0.11𝑥_3 - 0.01𝑥_4 - 0.01𝑥_5 - 0.00𝑥_6 ≤ -6 $\n",
    "\n",
    "- **Fibra máxima**\n",
    "$ 0.001𝑥_1 + 0.005𝑥_2 + 0.005𝑥_3 + 0.10𝑥_4 + 0.15𝑥_5 + 0.00𝑥_6 ≤ 2 $\n",
    "\n",
    "- **Sal máxima**\n",
    "$ 0.002𝑥_1 + 0.005𝑥_2 + 0.007𝑥_3 + 0.002𝑥_4 + 0.008𝑥_5 + 0.00𝑥_6 ≤ 0.4 $\n",
    "\n",
    "- **Cantidad de comida**\n",
    "$ x_1 + x_2 + x_3 + x_4 + x_5 + x_6 = 100 $"
   ]
  },
  {
   "cell_type": "markdown",
   "metadata": {},
   "source": [
    "#### 4. Solución en código"
   ]
  },
  {
   "cell_type": "code",
   "execution_count": 11,
   "metadata": {},
   "outputs": [
    {
     "name": "stdout",
     "output_type": "stream",
     "text": [
      "Costo mínimo total: 0.52\n",
      "Cantidad de gramos de uso por ingrediente:  \n",
      " [ 0. 60.  0.  0.  0. 40.]\n"
     ]
    }
   ],
   "source": [
    "import scipy.optimize as opt\n",
    "import numpy as np\n",
    "\n",
    "c = np.array([0.013,\n",
    "              0.008,\n",
    "              0.010,\n",
    "              0.002,\n",
    "              0.005,\n",
    "              0.001])\n",
    "\n",
    "Aub = np.array([\n",
    "    [-0.10, -0.20, -0.15, -0.00, -0.04, -0.00],\n",
    "    [-0.08, -0.10, -0.11, -0.01, -0.01, -0.00],\n",
    "    [0.001, 0.005, 0.005, 0.10, 0.15, 0.00],\n",
    "    [0.002, 0.005, 0.007, 0.002, 0.008, 0.00]])\n",
    "\n",
    "bub = np.array([-8,\n",
    "                -6,\n",
    "                2,\n",
    "                0.4])\n",
    "\n",
    "Aeq = np.array([\n",
    "    [1, 1, 1, 1, 1, 1]\n",
    "])\n",
    "\n",
    "beq = np.array([100])\n",
    "\n",
    "\n",
    "sol = opt.linprog(c, Aub, bub, Aeq, beq)\n",
    "print(\"Costo mínimo total:\", sol.fun)\n",
    "print(\"Cantidad de gramos de uso por ingrediente: \", \"\\n\", sol.x)"
   ]
  },
  {
   "cell_type": "code",
   "execution_count": 12,
   "metadata": {},
   "outputs": [
    {
     "data": {
      "text/plain": [
       "array([-12. ,  -6. ,   0.3,   0.3])"
      ]
     },
     "execution_count": 12,
     "metadata": {},
     "output_type": "execute_result"
    }
   ],
   "source": [
    "Aub @ sol.x"
   ]
  },
  {
   "cell_type": "markdown",
   "metadata": {},
   "source": [
    "- Por lo tanto, el costo mínimo de la comida es de $0.52$ y llevaría $60$ gramos de cordero y $40$ gramos de gel para no pasar las restricciones."
   ]
  },
  {
   "cell_type": "markdown",
   "metadata": {},
   "source": [
    "### Problema de distribución de energía eléctrica\n",
    "\n",
    "La Comisión Federal de Electricidad **(CFE)** dispone de cuatro plantas de generación para satisfacer la demanda diaria eléctrica en cuatro ciudades, Guadalajara, León y Morelia. Las plantas $1$, $2$ y $3$ pueden satisfacer $80$, $40$ y $60$ millones de KW al día respectivamente. Las necesidades de las ciudades de Guadalajara, León y Morelia son de $70$, $40$ y $70$ millones de Kw al día respectivamente. \n",
    "\n",
    "\n",
    "Los costos asociados al envío de suministro energético por cada millón de Kw entre cada planta y cada ciudad son los registrados en la siguiente tabla. \n",
    "\n",
    "-|Guadalajara|León|Morelia\n",
    ":----|----|----|----\n",
    "Planta 1|5|2|7\n",
    "Planta 2|3|6|6\n",
    "Planta 3|6|1|2\n",
    "\n",
    "Y por último, las restricciones del problema, van a estar dadas por las capacidades de oferta y demanda de cada planta (en millones de KW) y cada ciudad.\n",
    "\n",
    "Para simplificar la notación use las siguientes variables:\n",
    "\n",
    "+ $x_1$: Kw (en millones) distribuidos de la Planta 1 a Guadalajara\n",
    "+ $x_2$: Kw (en millones) distribuidos de la Planta 1 a León\n",
    "+ $x_3$: Kw (en millones) distribuidos de la Planta 1 a Morelia\n",
    "+ $x_4$: Kw (en millones) distribuidos de la Planta 2 a Guadalajara\n",
    "+ $x_5$: Kw (en millones) distribuidos de la Planta 2 a León\n",
    "+ $x_6$: Kw (en millones) distribuidos de la Planta 2 a Morelia\n",
    "+ $x_7$: Kw (en millones) distribuidos de la Planta 3 a Guadalajara\n",
    "+ $x_8$: Kw (en millones) distribuidos de la Planta 3 a León\n",
    "+ $x_9$: Kw (en millones) distribuidos de la Planta 3 a Morelia\n",
    "\n",
    "La tarea consiste en plantear el problema de programación lineal que permita satisfacer las necesidades de todas las ciudades al tiempo que minimice los costos asociados a la distribución y resolverlo con `linprog`."
   ]
  },
  {
   "cell_type": "markdown",
   "metadata": {},
   "source": [
    "#### 1. Criterio de optimización:\n",
    "Minimización de costos de la distribución de energía"
   ]
  },
  {
   "cell_type": "markdown",
   "metadata": {},
   "source": [
    "#### 2. Función de costos:\n",
    "$$ C = 5x_1 + 2x_2 + 7x_3 + 3x_4 + 6x_5 + 6x_6 + 6x_7 + x_8 + 2x_9 $$"
   ]
  },
  {
   "cell_type": "markdown",
   "metadata": {},
   "source": [
    "#### 3. Restricciones:\n",
    "- **Distribución de las plantas:**\n",
    "    1. $ x_1 + x_2 + x_3 ≤ 80 $\n",
    "    2. $ x_4 + x_5 + x_6 ≤ 40 $\n",
    "    3. $ x_7 + x_8 + x_9 ≤ 60 $\n",
    "\n",
    "- **Necesidad de las ciudades:**\n",
    "    1. $ x_1 + x_4 + x_7 = 70 $\n",
    "    2. $ x_2 + x_5 + x_8 = 40 $\n",
    "    3. $ x_3 + x_6 + x_9 = 70 $"
   ]
  },
  {
   "cell_type": "markdown",
   "metadata": {},
   "source": [
    "#### 4. Solución en código"
   ]
  },
  {
   "cell_type": "code",
   "execution_count": 13,
   "metadata": {},
   "outputs": [
    {
     "name": "stdout",
     "output_type": "stream",
     "text": [
      "Costo mínimo total: 540.0\n",
      "Distribución óptima a las plantas de millones de Kw: \n",
      " [30. 40. 10. 40.  0.  0.  0.  0. 60.]\n"
     ]
    }
   ],
   "source": [
    "import scipy.optimize as opt\n",
    "import numpy as np\n",
    "\n",
    "c = np.array([5,\n",
    "              2,\n",
    "              7,\n",
    "              3,\n",
    "              6,\n",
    "              6,\n",
    "              6,\n",
    "              1,\n",
    "              2])\n",
    "\n",
    "Aub = np.array([\n",
    "    [1, 1, 1, 0, 0, 0, 0, 0, 0],\n",
    "    [0, 0, 0, 1, 1, 1, 0, 0, 0],\n",
    "    [0, 0, 0, 0, 0, 0, 1, 1, 1]\n",
    "])\n",
    "\n",
    "bub = np.array([80,\n",
    "                40,\n",
    "                60,])\n",
    "\n",
    "Aeq = np.array([\n",
    "    [1, 0, 0, 1, 0, 0, 1, 0, 0],\n",
    "    [0, 1, 0, 0, 1, 0, 0, 1, 0],\n",
    "    [0, 0, 1, 0, 0, 1, 0, 0, 1]\n",
    "])\n",
    "\n",
    "beq = np.array([70,\n",
    "                40,\n",
    "                70])\n",
    "\n",
    "sol = opt.linprog(c, Aub, bub, Aeq, beq)\n",
    "print(\"Costo mínimo total:\", sol.fun)\n",
    "print(\"Distribución óptima a las plantas de millones de Kw:\", \"\\n\", sol.x)"
   ]
  },
  {
   "cell_type": "code",
   "execution_count": 14,
   "metadata": {},
   "outputs": [
    {
     "data": {
      "text/plain": [
       "array([80., 40., 60.])"
      ]
     },
     "execution_count": 14,
     "metadata": {},
     "output_type": "execute_result"
    }
   ],
   "source": [
    "Aub @ sol.x"
   ]
  },
  {
   "cell_type": "markdown",
   "metadata": {},
   "source": [
    "Por lo tanto, el costo mínimo de la distribución es de $540$ y se distribuirían de la siguiente manera:\n",
    "1. **Guadalajara**\n",
    "- 30 millones de kw a la planta 1, 40 millones de kw a la planta 2\n",
    "2. **León**\n",
    "- 40 millones de kw a la planta 1\n",
    "3. **Morelia**\n",
    "- 10 millones de kw a la planta 1, 60 millones de kw a la planta 3\n"
   ]
  }
 ],
 "metadata": {
  "kernelspec": {
   "display_name": "Python 3 (ipykernel)",
   "language": "python",
   "name": "python3"
  },
  "language_info": {
   "codemirror_mode": {
    "name": "ipython",
    "version": 3
   },
   "file_extension": ".py",
   "mimetype": "text/x-python",
   "name": "python",
   "nbconvert_exporter": "python",
   "pygments_lexer": "ipython3",
   "version": "3.11.4"
  }
 },
 "nbformat": 4,
 "nbformat_minor": 2
}
