{
 "cells": [
  {
   "cell_type": "markdown",
   "id": "17708e5e",
   "metadata": {},
   "source": [
    "### Luis Eduardo Jiménez del Muro - Examen - 18/09/2023"
   ]
  },
  {
   "cell_type": "markdown",
   "id": "1e2823cf",
   "metadata": {},
   "source": [
    "# Examen A Módulo 1 - Optimización.\n",
    "\n",
    "**Lea cuidadosamente las siguientes indicaciones antes de comenzar el examen:**\n",
    "- Para resolver el examen edite este mismo archivo y renómbrelo de la siguiente manera: *Examen1_ApellidoNombre*, donde *ApellidoNombre* corresponde a su apellido paterno con la inicial en mayúscula, seguido de su primer nombre con la inicial en mayúscula **sin acentos**. Por ejemplo, en mi caso el nombre del archivo sería *Examen1_MoralesGabriel*.\n",
    "- Resuelva los puntos en el espacio provisto. Si requiere agregar más celdas para código o escritura, hágalo (`Esc`,`B`) o (`Esc`,`A`).\n",
    "- Recuerde que también se está evaluando su capacidad de interpretar los resultados. Escriba sus interpretaciones/conclusiones en celdas utilizando *Markdown*.\n",
    "- El formato de presentación de todo el examen en general debe ser adecuado. Use tamaños de letra, colores, etiquetas, etcétera.\n",
    "- No se resuelven dudas de ningún tipo por los profesores de la asignatura. Por favor, absténgase de preguntar.\n",
    "- Revise bien el tipo de examen. Sólo se le calificará si realiza el tipo de examen asignado."
   ]
  },
  {
   "cell_type": "markdown",
   "id": "53712a36",
   "metadata": {},
   "source": [
    "---\n",
    "# Primer punto. Optimización de funciones con `SymPy` (37 puntos)\n",
    "\n",
    "**Costo mínimo**. Imagine dos contenedores cilíndricos sin tapa que deben satisfacer las siguientes condiciones:\n",
    "\n",
    "- El primer contenedor tiene el doble de altura que el segundo.\n",
    "- La altura del primer contenedor (el de mayor tamaño) es el doble de su radio.\n",
    "- El material para la base cuesta 10.00 MXN por cada $m^2$.\n",
    "- El material para los lados cuesta 6.00 MXN por cada $m^2$.\n",
    "\n",
    "¿Cuál es el costo del contenedor más barato?\n"
   ]
  },
  {
   "cell_type": "markdown",
   "id": "9913d3d8",
   "metadata": {},
   "source": [
    "1. Escriba el volumen $V_1(r_1)$ y $V_2(r_2, r_1)$ de ambos contenedores como dos funciones distintas, donde $r_1$ es el radio del primer contenedor y $r_2$ es el radio del segundo. Realice este punto usando $\\LaTeX$ y celdas *Markdown*."
   ]
  },
  {
   "cell_type": "markdown",
   "id": "215ce599",
   "metadata": {},
   "source": [
    "Si la altura del primero es el doble de la altura del segundo, y al mismo tiempo es el doble de su radio, por lo tanto, el radio del primero es igual a la altura del segundo."
   ]
  },
  {
   "cell_type": "markdown",
   "id": "44e2ece6",
   "metadata": {},
   "source": [
    "$$V_1(r_1) = \\pi r_1^2 (2r_1) = 2 \\pi r_1^3$$"
   ]
  },
  {
   "cell_type": "markdown",
   "id": "c1f9d745",
   "metadata": {},
   "source": [
    "$$V_2(r_1, r_2) = \\pi r_2^2 r_1 $$"
   ]
  },
  {
   "cell_type": "markdown",
   "id": "ee04a16b",
   "metadata": {},
   "source": [
    "2. Escriba el costo **C** de fabricar ambos contenedores como una función de los radios de las bases. Realice este punto usando $\\LaTeX$ y celdas *Markdown*."
   ]
  },
  {
   "cell_type": "markdown",
   "id": "d02e3e97",
   "metadata": {},
   "source": [
    "$$ C_1 = 10 \\pi r_1^2 + 6 ( 2 \\pi r_1 (2r_1)) = 10 \\pi r_1^2 + 24 \\pi r_1^2$$\n"
   ]
  },
  {
   "cell_type": "markdown",
   "id": "1dce55b6",
   "metadata": {},
   "source": [
    "$$ C_2 = 10 \\pi r_2^2 + 6 ( 2\\pi r_2 r_1 ) = 12 \\pi r_1 r_2 $$"
   ]
  },
  {
   "cell_type": "markdown",
   "id": "c3245668",
   "metadata": {},
   "source": [
    "$$ C_T = 10\\pi r_1^2 + 10\\pi r_2^2 + 24\\pi r_1^2 + 12\\pi r_1 r_2$$"
   ]
  },
  {
   "cell_type": "markdown",
   "id": "a1e58696",
   "metadata": {},
   "source": [
    "3. Determina las dimensiones de los contenedores si el volumen del contenedor pequeño debe ser de $12m^3$ y el costo debe ser mínimo."
   ]
  },
  {
   "cell_type": "markdown",
   "id": "c87a8116",
   "metadata": {},
   "source": [
    "Despejando $r_1$ de $V_2$:"
   ]
  },
  {
   "cell_type": "code",
   "execution_count": 36,
   "id": "d73359e2",
   "metadata": {},
   "outputs": [
    {
     "data": {
      "text/latex": [
       "$\\displaystyle \\frac{12}{\\pi y^{2}}$"
      ],
      "text/plain": [
       "12/(pi*y**2)"
      ]
     },
     "execution_count": 36,
     "metadata": {},
     "output_type": "execute_result"
    }
   ],
   "source": [
    "import sympy as sp\n",
    "import numpy as np\n",
    "import matplotlib.pyplot as plt\n",
    "%matplotlib inline\n",
    "\n",
    "sp.var(\"x\")\n",
    "sp.var(\"y\")\n",
    "\n",
    "v2 = sp.pi * y**2 * x - 12\n",
    "\n",
    "xdesp = sp.solve(v2, x)[0]\n",
    "xdesp\n",
    "\n",
    "\n"
   ]
  },
  {
   "cell_type": "markdown",
   "id": "c610263e",
   "metadata": {},
   "source": [
    "Remplazando el valor de r1 despejado en el paso anterior en la función de costos:"
   ]
  },
  {
   "cell_type": "code",
   "execution_count": 37,
   "id": "84f69541",
   "metadata": {},
   "outputs": [
    {
     "data": {
      "text/latex": [
       "$\\displaystyle 10 \\pi y^{2} + \\frac{144}{y} + \\frac{4896}{\\pi y^{4}}$"
      ],
      "text/plain": [
       "10*pi*y**2 + 144/y + 4896/(pi*y**4)"
      ]
     },
     "execution_count": 37,
     "metadata": {},
     "output_type": "execute_result"
    }
   ],
   "source": [
    "ct = (10 * sp.pi * x**2) + (10 * sp.pi * y**2) + (24 * sp.pi * x**2) + (12 * sp.pi * x * y)\n",
    "\n",
    "ct_remp = ct.subs(x, xdesp)\n",
    "ct_remp"
   ]
  },
  {
   "cell_type": "markdown",
   "id": "78940378",
   "metadata": {},
   "source": [
    "Una vez teniendo la función de costos en términos de una sola variable podemos pasar al proceso de optimización."
   ]
  },
  {
   "cell_type": "code",
   "execution_count": 85,
   "id": "0bb79227",
   "metadata": {
    "scrolled": true
   },
   "outputs": [
    {
     "data": {
      "text/latex": [
       "$\\displaystyle 20 \\pi y - \\frac{144}{y^{2}} - \\frac{19584}{\\pi y^{5}}$"
      ],
      "text/plain": [
       "20*pi*y - 144/y**2 - 19584/(pi*y**5)"
      ]
     },
     "execution_count": 85,
     "metadata": {},
     "output_type": "execute_result"
    }
   ],
   "source": [
    "def ct(y):\n",
    "    return (10 * sp.pi * y**2) + (144 / y) + (4896 / (sp.pi * y**4))\n",
    "\n",
    "dct = sp.diff(ct(y), y)\n",
    "dct"
   ]
  },
  {
   "cell_type": "code",
   "execution_count": 86,
   "id": "bc3ad849",
   "metadata": {},
   "outputs": [
    {
     "data": {
      "text/plain": [
       "6"
      ]
     },
     "execution_count": 86,
     "metadata": {},
     "output_type": "execute_result"
    }
   ],
   "source": [
    "pc = sp.solve(dct, y)\n",
    "\n",
    "len(pc)"
   ]
  },
  {
   "cell_type": "markdown",
   "id": "5e968b4b",
   "metadata": {},
   "source": [
    "Dado que encontró 6 puntos críticos, hay que revisar cuales son mayores que 0:"
   ]
  },
  {
   "cell_type": "code",
   "execution_count": 87,
   "id": "f4153028",
   "metadata": {},
   "outputs": [
    {
     "data": {
      "text/latex": [
       "$\\displaystyle - \\frac{5^{\\frac{2}{3}} \\sqrt[3]{-18 + 6 \\sqrt{689}}}{5 \\sqrt[3]{\\pi}}$"
      ],
      "text/plain": [
       "-5**(2/3)*(-18 + 6*sqrt(689))**(1/3)/(5*pi**(1/3))"
      ]
     },
     "execution_count": 87,
     "metadata": {},
     "output_type": "execute_result"
    }
   ],
   "source": [
    "pc[0] "
   ]
  },
  {
   "cell_type": "code",
   "execution_count": 88,
   "id": "5ce10dbe",
   "metadata": {},
   "outputs": [
    {
     "data": {
      "text/latex": [
       "$\\displaystyle \\frac{5^{\\frac{2}{3}} \\sqrt[3]{18 + 6 \\sqrt{689}}}{5 \\sqrt[3]{\\pi}}$"
      ],
      "text/plain": [
       "5**(2/3)*(18 + 6*sqrt(689))**(1/3)/(5*pi**(1/3))"
      ]
     },
     "execution_count": 88,
     "metadata": {},
     "output_type": "execute_result"
    }
   ],
   "source": [
    "pc[1]"
   ]
  },
  {
   "cell_type": "code",
   "execution_count": 89,
   "id": "0ce9af53",
   "metadata": {},
   "outputs": [
    {
     "data": {
      "text/latex": [
       "$\\displaystyle \\frac{5^{\\frac{2}{3}} \\sqrt[3]{-18 + 6 \\sqrt{689}}}{10 \\sqrt[3]{\\pi}} - \\frac{\\sqrt{3} \\cdot 5^{\\frac{2}{3}} i \\sqrt[3]{-18 + 6 \\sqrt{689}}}{10 \\sqrt[3]{\\pi}}$"
      ],
      "text/plain": [
       "5**(2/3)*(-18 + 6*sqrt(689))**(1/3)/(10*pi**(1/3)) - sqrt(3)*5**(2/3)*I*(-18 + 6*sqrt(689))**(1/3)/(10*pi**(1/3))"
      ]
     },
     "execution_count": 89,
     "metadata": {},
     "output_type": "execute_result"
    }
   ],
   "source": [
    "pc[2]"
   ]
  },
  {
   "cell_type": "code",
   "execution_count": 90,
   "id": "0e2e7863",
   "metadata": {},
   "outputs": [
    {
     "data": {
      "text/latex": [
       "$\\displaystyle \\frac{5^{\\frac{2}{3}} \\sqrt[3]{-18 + 6 \\sqrt{689}}}{10 \\sqrt[3]{\\pi}} + \\frac{\\sqrt{3} \\cdot 5^{\\frac{2}{3}} i \\sqrt[3]{-18 + 6 \\sqrt{689}}}{10 \\sqrt[3]{\\pi}}$"
      ],
      "text/plain": [
       "5**(2/3)*(-18 + 6*sqrt(689))**(1/3)/(10*pi**(1/3)) + sqrt(3)*5**(2/3)*I*(-18 + 6*sqrt(689))**(1/3)/(10*pi**(1/3))"
      ]
     },
     "execution_count": 90,
     "metadata": {},
     "output_type": "execute_result"
    }
   ],
   "source": [
    "pc[3]"
   ]
  },
  {
   "cell_type": "code",
   "execution_count": 91,
   "id": "487a5977",
   "metadata": {},
   "outputs": [
    {
     "data": {
      "text/latex": [
       "$\\displaystyle - \\frac{5^{\\frac{2}{3}} \\sqrt[3]{18 + 6 \\sqrt{689}}}{10 \\sqrt[3]{\\pi}} - \\frac{\\sqrt{3} \\cdot 5^{\\frac{2}{3}} i \\sqrt[3]{18 + 6 \\sqrt{689}}}{10 \\sqrt[3]{\\pi}}$"
      ],
      "text/plain": [
       "-5**(2/3)*(18 + 6*sqrt(689))**(1/3)/(10*pi**(1/3)) - sqrt(3)*5**(2/3)*I*(18 + 6*sqrt(689))**(1/3)/(10*pi**(1/3))"
      ]
     },
     "execution_count": 91,
     "metadata": {},
     "output_type": "execute_result"
    }
   ],
   "source": [
    "pc[4]"
   ]
  },
  {
   "cell_type": "code",
   "execution_count": 92,
   "id": "6e28e1ee",
   "metadata": {},
   "outputs": [
    {
     "data": {
      "text/latex": [
       "$\\displaystyle - \\frac{5^{\\frac{2}{3}} \\sqrt[3]{18 + 6 \\sqrt{689}}}{10 \\sqrt[3]{\\pi}} + \\frac{\\sqrt{3} \\cdot 5^{\\frac{2}{3}} i \\sqrt[3]{18 + 6 \\sqrt{689}}}{10 \\sqrt[3]{\\pi}}$"
      ],
      "text/plain": [
       "-5**(2/3)*(18 + 6*sqrt(689))**(1/3)/(10*pi**(1/3)) + sqrt(3)*5**(2/3)*I*(18 + 6*sqrt(689))**(1/3)/(10*pi**(1/3))"
      ]
     },
     "execution_count": 92,
     "metadata": {},
     "output_type": "execute_result"
    }
   ],
   "source": [
    "pc[5]"
   ]
  },
  {
   "cell_type": "markdown",
   "id": "2786774c",
   "metadata": {},
   "source": [
    "Dado que el primer punto crítico es negativo, y hay otros 4 que implican números imaginarios, el único que nos sirve es el segundo:"
   ]
  },
  {
   "cell_type": "code",
   "execution_count": 94,
   "id": "32bfc98f",
   "metadata": {
    "scrolled": true
   },
   "outputs": [
    {
     "data": {
      "text/latex": [
       "$\\displaystyle \\frac{5^{\\frac{2}{3}} \\sqrt[3]{18 + 6 \\sqrt{689}}}{5 \\sqrt[3]{\\pi}}$"
      ],
      "text/plain": [
       "5**(2/3)*(18 + 6*sqrt(689))**(1/3)/(5*pi**(1/3))"
      ]
     },
     "execution_count": 94,
     "metadata": {},
     "output_type": "execute_result"
    }
   ],
   "source": [
    "pc[1] #El que sirve"
   ]
  },
  {
   "cell_type": "markdown",
   "id": "ef1d80b7",
   "metadata": {},
   "source": [
    "Por lo tanto, las medidas que deben tener los cilindros son:"
   ]
  },
  {
   "cell_type": "code",
   "execution_count": 98,
   "id": "0cba754b",
   "metadata": {},
   "outputs": [
    {
     "name": "stdout",
     "output_type": "stream",
     "text": [
      "La medida de r2 es:  2.235526671726874\n"
     ]
    }
   ],
   "source": [
    "print(\"La medida de r2 es: \", float(pc[1]))"
   ]
  },
  {
   "cell_type": "code",
   "execution_count": 103,
   "id": "7d38527f",
   "metadata": {},
   "outputs": [
    {
     "name": "stdout",
     "output_type": "stream",
     "text": [
      "La medida de r1 es:  0.7643137311179903\n"
     ]
    }
   ],
   "source": [
    "print(\"La medida de r1 es: \", float(xdesp.subs(y, pc[1])))"
   ]
  },
  {
   "cell_type": "markdown",
   "id": "fec1be1e",
   "metadata": {},
   "source": [
    "3. ¿Cuál fue el costo de fabricar este par de contenedores?"
   ]
  },
  {
   "cell_type": "code",
   "execution_count": 107,
   "id": "3da98dd3",
   "metadata": {},
   "outputs": [
    {
     "name": "stdout",
     "output_type": "stream",
     "text": [
      "El costo total de fabricar los contenedores es de:\n",
      " $ 283.8161489938861\n"
     ]
    }
   ],
   "source": [
    "print(\"El costo total de fabricar los contenedores es de:\\n $\", float(ct_remp.subs(y, pc[1])))"
   ]
  },
  {
   "cell_type": "markdown",
   "id": "4eeff9c8",
   "metadata": {},
   "source": [
    "---\n",
    "# Segundo punto. Programación lineal (37 puntos)"
   ]
  },
  {
   "cell_type": "markdown",
   "id": "8013ca31",
   "metadata": {},
   "source": [
    "Una empresa se dedica a fabricar tarjetas de control para automóviles, y están en su momento de planeación de compras anuales. Hay 5 proveedores que pueden proveer los componentes, cada uno a su propio precio."
   ]
  },
  {
   "cell_type": "markdown",
   "id": "f41253d2",
   "metadata": {},
   "source": [
    "<table>\n",
    "  <tr>\n",
    "      <th>  </th>\n",
    "      <th>Proveedor 1</th>\n",
    "      <th>Proveedor 2</th>\n",
    "      <th>Proveedor 3</th>\n",
    "      <th>Demanda</th>\n",
    "  </tr>\n",
    "  <tr>\n",
    "      <th>Componente 1</th>\n",
    "      <td>0.5</td>\n",
    "      <td>0.6</td>\n",
    "      <td>0.7</td>\n",
    "      <td>15000</td>\n",
    "  </tr>\n",
    "  <tr style=\"border-bottom: 1px solid #000;\">\n",
    "      <th>Componente 2</th>\n",
    "      <td>0.7</td>\n",
    "      <td>0.5</td>\n",
    "      <td>0.6</td>\n",
    "      <td>20000</td>\n",
    "  </tr>\n",
    "  <tr style=\"border-bottom: 1px solid #000;\">\n",
    "      <th>Componente 3</th>\n",
    "      <td>0.32</td>\n",
    "      <td>0.54</td>\n",
    "      <td>0.8</td>\n",
    "      <td>12000</td>\n",
    "  </tr>\n",
    "\n",
    "  <tr style=\"border-bottom: 1px solid #000;\">\n",
    "      <th>Capacidad</th>\n",
    "      <td> 21000 </td>\n",
    "      <td> 16000 </td>\n",
    "      <td> 16000 </td>\n",
    "      <td>  </td>\n",
    "  </tr>\n",
    "</table>"
   ]
  },
  {
   "cell_type": "markdown",
   "id": "48d6c967",
   "metadata": {},
   "source": [
    "El proveedor tiene restricciones de capacidad de fabricación del tipo de componentes, por lo que un proveedor no puede satisfacer nuestra demanda completa para cada componente."
   ]
  },
  {
   "cell_type": "markdown",
   "id": "85e307ae",
   "metadata": {},
   "source": [
    "Se desea conocer la cantidad que se debe comprar de cada componente a cada proveedor para gastar la menor cantidad de dinero posible, pero al mismo tiempo lograr satisfacer la demanda para poder continuar con la manufactura del producto."
   ]
  },
  {
   "cell_type": "markdown",
   "id": "df55a736",
   "metadata": {},
   "source": [
    "1. Escriba la función a **minimizar** junto con las restricciones, explicando detalladamente cada paso (usando fórmulas en $\\LaTeX$, en celdas Markdown). Además escriba el problema en la forma \\begin{equation}\n",
    "\\begin{array}{ll}\n",
    "\\min_{\\boldsymbol{x}} & \\boldsymbol{c}^T\\boldsymbol{x} \\\\\n",
    "\\text{s. a. }        & \\boldsymbol{A}_{eq}\\boldsymbol{x}=\\boldsymbol{b}_{eq} \\\\\n",
    "                     & \\boldsymbol{A}\\boldsymbol{x}\\leq\\boldsymbol{b},\n",
    "\\end{array}\\qquad\\text{(23 puntos)}\n",
    "\\end{equation}"
   ]
  },
  {
   "cell_type": "markdown",
   "id": "e0265961",
   "metadata": {},
   "source": [
    "**Criterio de optimización**\n",
    "- Minimizar el costo\n",
    "\n",
    "**Variables sobre las que tengo control**\n",
    "- Cantidad a comprar por componente: $x_1, x_2, x_3, ..., x_9$\n",
    "\n",
    "**Función de costos**\n",
    "- $$C = 0.5x_1 + 0.6x_2 + 0.7x_3 + 0.7x_4 + 0.5x_5 + 0.6x_6 + 0.32x_7 + 0.54x_8 + 0.8x_9 = 15000 + 20000 + 12000 $$\n",
    "\n",
    "**Restricciones:**\n",
    "- Capacidad proveedor 1: $x_1 + x_4 + x_7 \\leq 21000$\n",
    "- Capacidad proveedor 2: $x_2 + x_5 + x_8 \\leq 16000$\n",
    "- Capacidad proveedor 3: $x_3 + x_6 + x_9 \\leq16000$\n",
    "- Demanda componente 1: $x_1 + x_2 + x_3 = 15000$\n",
    "- Demanda componente 2: $x_4 + x_5 + x_6 = 20000$\n",
    "- Demanda componente 3: $x_7 + x_8 + x_9 = 12000$"
   ]
  },
  {
   "cell_type": "markdown",
   "id": "6c1e3c9a",
   "metadata": {},
   "source": [
    "2. Resuelva el problema utilizando la función `linprog`. ¿Cómo debe ser la distribución de compras? ¿Cuánto dinero se necesita para satisfacer la demanda? (10 puntos)"
   ]
  },
  {
   "cell_type": "code",
   "execution_count": 57,
   "id": "d321188e",
   "metadata": {},
   "outputs": [
    {
     "name": "stdout",
     "output_type": "stream",
     "text": [
      "Costo mínimo total: 22940.0\n",
      "Compra óptima de componentes \n",
      " [ 9000.     0.  6000.     0. 16000.  4000. 12000.     0.     0.]\n"
     ]
    }
   ],
   "source": [
    "import scipy.optimize as opt\n",
    "import numpy as np\n",
    "\n",
    "c = np.array([0.5,\n",
    "              0.6,\n",
    "              0.7,\n",
    "              0.7,\n",
    "              0.5,\n",
    "              0.6,\n",
    "              0.32,\n",
    "              0.54,\n",
    "              0.8])\n",
    "\n",
    "Aub = np.array([\n",
    "    [1, 0, 0, 1, 0, 0, 1, 0, 0],\n",
    "    [0, 1, 0, 0, 1, 0, 0, 1, 0],\n",
    "    [0, 0, 1, 0, 0, 1, 0, 0, 1]\n",
    "])\n",
    "\n",
    "bub = np.array([21000,\n",
    "                16000,\n",
    "                16000,])\n",
    "\n",
    "Aeq = np.array([\n",
    "    [1, 1, 1, 0, 0, 0, 0, 0, 0],\n",
    "    [0, 0, 0, 1, 1, 1, 0, 0, 0],\n",
    "    [0, 0, 0, 0, 0, 0, 1, 1, 1]\n",
    "    \n",
    "])\n",
    "\n",
    "beq = np.array([15000,\n",
    "                20000,\n",
    "                12000])\n",
    "\n",
    "sol = opt.linprog(c, Aub, bub, Aeq, beq)\n",
    "print(\"Costo mínimo total:\", sol.fun)\n",
    "print(\"Compra óptima de componentes\", \"\\n\", sol.x)"
   ]
  },
  {
   "cell_type": "markdown",
   "id": "acd900b6",
   "metadata": {},
   "source": [
    "Comprobación de las restricciones:"
   ]
  },
  {
   "cell_type": "code",
   "execution_count": 58,
   "id": "e457259e",
   "metadata": {},
   "outputs": [
    {
     "data": {
      "text/plain": [
       "array([21000., 16000., 10000.])"
      ]
     },
     "execution_count": 58,
     "metadata": {},
     "output_type": "execute_result"
    }
   ],
   "source": [
    "Aub @ sol.x"
   ]
  },
  {
   "cell_type": "markdown",
   "id": "8ada4cb1",
   "metadata": {},
   "source": [
    "Por lo tanto, la manera en la que se minimizan costos comprando la cantidad total de de componentes demandados es:\n",
    "- 9000 componente 1 proveedor 1\n",
    "- 6000 componente 3 proveedor 3\n",
    "- 16000 componente 2 proveedor 2\n",
    "- 4000 compoente 3 proveedor 2\n",
    "- 12000 componente 1 proveedor 3"
   ]
  },
  {
   "cell_type": "markdown",
   "id": "5663a48b",
   "metadata": {},
   "source": [
    "# Tercer punto. Ajuste de curvas (36 puntos)\n",
    "\n",
    "Utiliza el archivo adjunto en Canvas en el apartado que corresponde al examen."
   ]
  },
  {
   "cell_type": "markdown",
   "id": "c673e9e6",
   "metadata": {},
   "source": [
    "Escribe tu número de expediente: 746484"
   ]
  },
  {
   "cell_type": "markdown",
   "id": "da3c6c2e",
   "metadata": {},
   "source": [
    "Lee el archivo y extrae la siguiente información:\n",
    "- $x$ es la primer columna del archivo\n",
    "- $y$ es la columna correspondiente a los últimos dos dígitos de tu número de expediente + 1. E.g. mi expediente es $693871$; por lo tanto, debo usar la columna $72$."
   ]
  },
  {
   "cell_type": "code",
   "execution_count": 112,
   "id": "46fbbaf5",
   "metadata": {},
   "outputs": [],
   "source": [
    "import pandas as pd\n",
    "import matplotlib.pyplot as plt\n",
    "import numpy as np\n",
    "import scipy.optimize as opt\n",
    "\n",
    "%matplotlib inline\n",
    "\n",
    "tabla = pd.read_excel(\"E01-RegresionLineal.xlsx\")\n",
    "x = np.array(tabla[0])\n",
    "y = np.array(tabla[85])"
   ]
  },
  {
   "cell_type": "code",
   "execution_count": 113,
   "id": "feb405d3",
   "metadata": {},
   "outputs": [],
   "source": [
    "def funcion_de_costo(beta, X, y) :\n",
    "    m, n = X.shape\n",
    "    beta = np.reshape(beta, [n, 1])\n",
    "    y_pred = X @ beta\n",
    "    error = y_pred - y\n",
    "    return (error.T @ error)[0][0]\n",
    "\n",
    "m = len(y)\n",
    "ones = np.ones([m, 1])\n",
    "y_vector = np.reshape(y, [m, 1])\n",
    "\n",
    "def funcion_de_costo(beta, X, y) :\n",
    "    m, n = X.shape\n",
    "    beta = np.reshape(beta, [n, 1])\n",
    "    y_pred = X @ beta\n",
    "    error = y_pred - y\n",
    "    return (error.T @ error)[0][0]\n",
    "\n",
    "m = len(y)\n",
    "ones = np.ones([m, 1])\n",
    "y_vector = np.reshape(y, [m, 1])\n",
    "\n",
    "#Lineal\n",
    "beta = np.random.rand(2)\n",
    "x_factor = np.reshape(x, [m, 1])\n",
    "X = np.hstack( (ones, x_factor) )\n",
    "sol1 = opt.minimize(funcion_de_costo, beta, args=(X, y_vector))\n",
    "\n",
    "#Cuadrática\n",
    "beta2 = np.random.rand(3)\n",
    "x2_factor = np.reshape(x**2, [m, 1])\n",
    "X2 = np.hstack( (ones, x_factor, x2_factor) )\n",
    "sol2 = opt.minimize(funcion_de_costo, beta2, args=(X2, y_vector))\n",
    "\n",
    "\n",
    "# Cúbica\n",
    "beta3 = np.random.rand(4)\n",
    "x3_factor = np.reshape(x**3, [m, 1])\n",
    "X3 = np.hstack( (ones, x_factor, x2_factor, x3_factor) )\n",
    "sol3 = opt.minimize(funcion_de_costo, beta3, args=(X3, y_vector))\n",
    "\n",
    "# Cuarta\n",
    "beta4 = np.random.rand(5)\n",
    "x4_factor = np.reshape(x**3, [m, 1])\n",
    "X4 = np.hstack( (ones, x_factor, x2_factor, x3_factor, x4_factor) )\n",
    "sol4 = opt.minimize(funcion_de_costo, beta4, args=(X4, y_vector))\n",
    "\n",
    "# Quinta\n",
    "beta5 = np.random.rand(6)\n",
    "x5_factor = np.reshape(x**3, [m, 1])\n",
    "X5 = np.hstack( (ones, x_factor, x2_factor, x3_factor, x4_factor, x5_factor) )\n",
    "sol5 = opt.minimize(funcion_de_costo, beta5, args=(X5, y_vector))"
   ]
  },
  {
   "cell_type": "code",
   "execution_count": 114,
   "id": "fa67533a",
   "metadata": {},
   "outputs": [
    {
     "data": {
      "text/plain": [
       "  message: Optimization terminated successfully.\n",
       "  success: True\n",
       "   status: 0\n",
       "      fun: 61292.8564321123\n",
       "        x: [-8.424e+00  2.241e+01]\n",
       "      nit: 7\n",
       "      jac: [ 0.000e+00  0.000e+00]\n",
       " hess_inv: [[ 1.675e-03 -1.034e-03]\n",
       "            [-1.034e-03  9.259e-04]]\n",
       "     nfev: 30\n",
       "     njev: 10"
      ]
     },
     "execution_count": 114,
     "metadata": {},
     "output_type": "execute_result"
    }
   ],
   "source": [
    "sol1"
   ]
  },
  {
   "cell_type": "code",
   "execution_count": 115,
   "id": "59f4222d",
   "metadata": {},
   "outputs": [
    {
     "data": {
      "text/plain": [
       "  message: Desired error not necessarily achieved due to precision loss.\n",
       "  success: False\n",
       "   status: 2\n",
       "      fun: 1043.1532430431935\n",
       "        x: [ 3.264e+00  2.592e+00 -1.300e+01  1.272e+01]\n",
       "      nit: 13\n",
       "      jac: [ 0.000e+00  0.000e+00  0.000e+00  3.052e-05]\n",
       " hess_inv: [[ 6.085e-03 -1.785e-02  1.450e-02 -3.506e-03]\n",
       "            [-1.785e-02  7.890e-02 -8.068e-02  2.334e-02]\n",
       "            [ 1.450e-02 -8.068e-02  9.460e-02 -3.020e-02]\n",
       "            [-3.506e-03  2.334e-02 -3.020e-02  1.032e-02]]\n",
       "     nfev: 197\n",
       "     njev: 37"
      ]
     },
     "execution_count": 115,
     "metadata": {},
     "output_type": "execute_result"
    }
   ],
   "source": [
    "sol3"
   ]
  },
  {
   "cell_type": "code",
   "execution_count": 116,
   "id": "743355ef",
   "metadata": {},
   "outputs": [
    {
     "data": {
      "text/plain": [
       "  message: Desired error not necessarily achieved due to precision loss.\n",
       "  success: False\n",
       "   status: 2\n",
       "      fun: 1043.153243043199\n",
       "        x: [ 3.264e+00  2.592e+00 -1.300e+01  4.452e+00  3.821e+00\n",
       "             4.451e+00]\n",
       "      nit: 15\n",
       "      jac: [-7.629e-05 -9.155e-05 -1.221e-04 -1.526e-04 -1.526e-04\n",
       "            -1.678e-04]\n",
       " hess_inv: [[ 1.495e-02 -6.422e-02 ...  9.383e-02 -4.165e-02]\n",
       "            [-6.422e-02  3.179e-01 ... -4.841e-01  2.233e-01]\n",
       "            ...\n",
       "            [ 9.383e-02 -4.841e-01 ...  7.547e-01 -3.538e-01]\n",
       "            [-4.165e-02  2.233e-01 ... -3.538e-01  1.709e-01]]\n",
       "     nfev: 331\n",
       "     njev: 46"
      ]
     },
     "execution_count": 116,
     "metadata": {},
     "output_type": "execute_result"
    }
   ],
   "source": [
    "sol5"
   ]
  },
  {
   "cell_type": "markdown",
   "id": "8714fbd7",
   "metadata": {},
   "source": [
    "1. Ajuste los datos con polinomios de grados 1, 3, y 5. Muestre los errores de forma gráfica. ¿Qué polinomio se ajusta mejor?"
   ]
  },
  {
   "cell_type": "markdown",
   "id": "48484b97",
   "metadata": {},
   "source": [
    "**AJUSTE POLINOMIOS**"
   ]
  },
  {
   "cell_type": "code",
   "execution_count": 117,
   "id": "027ba631",
   "metadata": {},
   "outputs": [
    {
     "data": {
      "text/plain": [
       "<matplotlib.legend.Legend at 0x1e43f272bd0>"
      ]
     },
     "execution_count": 117,
     "metadata": {},
     "output_type": "execute_result"
    },
    {
     "data": {
      "image/png": "[encoded data removed]",
      "text/plain": [
       "<Figure size 640x480 with 1 Axes>"
      ]
     },
     "metadata": {},
     "output_type": "display_data"
    }
   ],
   "source": [
    "plt.figure()\n",
    "plt.grid()\n",
    "plt.scatter(x, y)\n",
    "plt.plot(x, X @ np.reshape(sol1.x, [2, 1]), \"m\" ,label=\"Lineal\")\n",
    "plt.plot(x, X3 @ np.reshape(sol3.x, [4, 1]), \"k\", label=\"Cúbica\")\n",
    "plt.plot(x, X5 @ np.reshape(sol5.x, [6, 1]), \"y\", label=\"Cúbica\")\n",
    "plt.legend(loc = \"best\")"
   ]
  },
  {
   "cell_type": "markdown",
   "id": "3490a230",
   "metadata": {},
   "source": [
    "**ERRORES**"
   ]
  },
  {
   "cell_type": "code",
   "execution_count": 118,
   "id": "9531a7a8",
   "metadata": {},
   "outputs": [
    {
     "data": {
      "text/plain": [
       "<BarContainer object of 3 artists>"
      ]
     },
     "execution_count": 118,
     "metadata": {},
     "output_type": "execute_result"
    },
    {
     "data": {
      "image/png": "[encoded data removed]",
      "text/plain": [
       "<Figure size 640x480 with 1 Axes>"
      ]
     },
     "metadata": {},
     "output_type": "display_data"
    }
   ],
   "source": [
    "plt.figure()\n",
    "plt.bar([1, 2, 3], [sol1.fun, sol3.fun, sol5.fun])"
   ]
  },
  {
   "cell_type": "markdown",
   "id": "3c98ba4b",
   "metadata": {},
   "source": [
    "**¿Qué polinomio se ajusta mejor?**"
   ]
  },
  {
   "cell_type": "markdown",
   "id": "b6afe96a",
   "metadata": {},
   "source": [
    "Debido a que la nube de datos asemeja una parábola, la función cúbica y quinta se  ajustan de igual manera y con el mismo error, por lo que para facilitar los cálculos a la computadora, la función óptima es la cúbica."
   ]
  },
  {
   "cell_type": "markdown",
   "id": "59862478",
   "metadata": {},
   "source": [
    "2. Muestre en un gráfico los datos y el polinomio que mejor se ajuste."
   ]
  },
  {
   "cell_type": "code",
   "execution_count": 119,
   "id": "27387213",
   "metadata": {},
   "outputs": [
    {
     "data": {
      "text/plain": [
       "<matplotlib.legend.Legend at 0x1e43f2299d0>"
      ]
     },
     "execution_count": 119,
     "metadata": {},
     "output_type": "execute_result"
    },
    {
     "data": {
      "image/png": "[encoded data removed]",
      "text/plain": [
       "<Figure size 640x480 with 1 Axes>"
      ]
     },
     "metadata": {},
     "output_type": "display_data"
    }
   ],
   "source": [
    "plt.figure()\n",
    "plt.grid()\n",
    "plt.scatter(x, y)\n",
    "plt.plot(x, X3 @ np.reshape(sol3.x, [4, 1]), \"k\", label=\"Cúbica\")\n",
    "plt.legend(loc = \"best\")"
   ]
  },
  {
   "cell_type": "markdown",
   "id": "238f342a",
   "metadata": {},
   "source": [
    "3. Use el modelo para averiguar el valor de $y$ cuando:\n",
    "- $x=0.001$\n",
    "- $x=-0.1$\n",
    "- $x=2.1$"
   ]
  },
  {
   "cell_type": "markdown",
   "id": "586cac18",
   "metadata": {},
   "source": [
    "**Primero definir una función en código que simule la función cúbica obtenida:**"
   ]
  },
  {
   "cell_type": "code",
   "execution_count": 120,
   "id": "b5d4cfe7",
   "metadata": {},
   "outputs": [],
   "source": [
    "def f(x):\n",
    "    return 3.264 + 2.592*x - 13.0*x**2 + 12.72*x**3"
   ]
  },
  {
   "cell_type": "markdown",
   "id": "8963cdb5",
   "metadata": {},
   "source": [
    "**Ahora remplazando los valores de $x$ en la función:**"
   ]
  },
  {
   "cell_type": "code",
   "execution_count": 121,
   "id": "4c7c963b",
   "metadata": {},
   "outputs": [
    {
     "data": {
      "text/plain": [
       "3.26657901272"
      ]
     },
     "execution_count": 121,
     "metadata": {},
     "output_type": "execute_result"
    }
   ],
   "source": [
    "f(0.001)"
   ]
  },
  {
   "cell_type": "code",
   "execution_count": 122,
   "id": "356c04bb",
   "metadata": {
    "scrolled": true
   },
   "outputs": [
    {
     "data": {
      "text/plain": [
       "2.86208"
      ]
     },
     "execution_count": 122,
     "metadata": {},
     "output_type": "execute_result"
    }
   ],
   "source": [
    "f(-0.1)"
   ]
  },
  {
   "cell_type": "code",
   "execution_count": 123,
   "id": "32ed7b60",
   "metadata": {},
   "outputs": [
    {
     "data": {
      "text/plain": [
       "69.17712000000002"
      ]
     },
     "execution_count": 123,
     "metadata": {},
     "output_type": "execute_result"
    }
   ],
   "source": [
    "f(2.1)"
   ]
  },
  {
   "cell_type": "markdown",
   "id": "4af77457",
   "metadata": {},
   "source": [
    "4. ¿Qué diferencias encuentra en cuanto a la interpolación y la extrapolación?"
   ]
  },
  {
   "cell_type": "markdown",
   "id": "fc693d0d",
   "metadata": {},
   "source": [
    "En la extrapolación ($x=2.1$), efectivamente arroja un valor mas alto, respetanto la curva a la alza.\n",
    "En la interpolación, también arroja un resultado que se ve en el promedio del los datos para esa zona por lo que se puede concluír que las predicciones estan cerca de los datos reales."
   ]
  },
  {
   "cell_type": "markdown",
   "id": "3ff8002f",
   "metadata": {},
   "source": [
    "5. Agregue un factor $\\cos{(10x)}$ a su modelo y grafique los resultados. ¿Mejoró el resultado?"
   ]
  },
  {
   "cell_type": "code",
   "execution_count": 136,
   "id": "28b1f9ef",
   "metadata": {},
   "outputs": [
    {
     "data": {
      "text/plain": [
       "<matplotlib.legend.Legend at 0x1e4425c0150>"
      ]
     },
     "execution_count": 136,
     "metadata": {},
     "output_type": "execute_result"
    },
    {
     "data": {
      "image/png": "[encoded data removed]",
      "text/plain": [
       "<Figure size 640x480 with 1 Axes>"
      ]
     },
     "metadata": {},
     "output_type": "display_data"
    }
   ],
   "source": [
    "def f(x):\n",
    "    return 3.264 + 2.592*x - 13.0*x**2 + 12.72*x**3 + np.cos(10*x)\n",
    "\n",
    "plt.figure()\n",
    "plt.grid()\n",
    "plt.scatter(x, y,)\n",
    "plt.plot(x, f(x), \"y\", label=\"Con cos(10x)\")\n",
    "plt.plot(x, X3 @ np.reshape(sol3.x, [4, 1]), \"k\", label=\"Cúbica\")\n",
    "plt.legend(loc = \"best\")"
   ]
  },
  {
   "cell_type": "code",
   "execution_count": 50,
   "id": "011525b0",
   "metadata": {},
   "outputs": [
    {
     "data": {
      "text/plain": [
       "4.266529013136665"
      ]
     },
     "execution_count": 50,
     "metadata": {},
     "output_type": "execute_result"
    }
   ],
   "source": [
    "f(0.001)"
   ]
  },
  {
   "cell_type": "code",
   "execution_count": 51,
   "id": "b6cc448d",
   "metadata": {},
   "outputs": [
    {
     "data": {
      "text/plain": [
       "3.40238230586814"
      ]
     },
     "execution_count": 51,
     "metadata": {},
     "output_type": "execute_result"
    }
   ],
   "source": [
    "f(-0.1)"
   ]
  },
  {
   "cell_type": "code",
   "execution_count": 53,
   "id": "b6b7ce6e",
   "metadata": {},
   "outputs": [
    {
     "data": {
      "text/plain": [
       "68.62939073977574"
      ]
     },
     "execution_count": 53,
     "metadata": {},
     "output_type": "execute_result"
    }
   ],
   "source": [
    "f(2.1)"
   ]
  },
  {
   "cell_type": "markdown",
   "id": "37a206eb",
   "metadata": {},
   "source": [
    "El resultado es muy parecido, los datos pequeños se vieron un poco afectados debido a las curvas que genera el coseno, sin embargo, los resultados son muy parecidos entre sí."
   ]
  }
 ],
 "metadata": {
  "kernelspec": {
   "display_name": "Python 3 (ipykernel)",
   "language": "python",
   "name": "python3"
  },
  "language_info": {
   "codemirror_mode": {
    "name": "ipython",
    "version": 3
   },
   "file_extension": ".py",
   "mimetype": "text/x-python",
   "name": "python",
   "nbconvert_exporter": "python",
   "pygments_lexer": "ipython3",
   "version": "3.11.4"
  }
 },
 "nbformat": 4,
 "nbformat_minor": 5
}
