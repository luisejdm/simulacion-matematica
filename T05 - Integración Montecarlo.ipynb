{
 "cells": [
  {
   "cell_type": "markdown",
   "metadata": {},
   "source": [
    "## Luis Eduardo Jiménez del Muro - 02/10/2023"
   ]
  },
  {
   "cell_type": "markdown",
   "metadata": {},
   "source": [
    "# TAREA"
   ]
  },
  {
   "cell_type": "markdown",
   "metadata": {},
   "source": [
    "## Integración Montecarlo"
   ]
  },
  {
   "cell_type": "markdown",
   "metadata": {},
   "source": [
    "1. Realizar las siguientes integrales. Poner los resultados en una tabla cuyas filas correspondan a la cantidad de términos utilizados en la aproximación (usar 10, 100, 1000, 10000 y 100000 términos) y cuyas columnas correspondan a las funciones.\n",
    "    + $\\int_{1}^{3} e^{x}\\log(x)\\text{d}x$.\n",
    "    + $\\int_1^3 \\sin(x)\\ln(x) \\text{d}x$"
   ]
  },
  {
   "cell_type": "markdown",
   "metadata": {},
   "source": [
    "- Resultado primera integral con wolfram = 6.09207\n",
    "- Resultado primera integral con wolfram = 0.869844"
   ]
  },
  {
   "cell_type": "code",
   "execution_count": 3,
   "metadata": {},
   "outputs": [
    {
     "data": {
      "text/html": [
       "<div>\n",
       "<style scoped>\n",
       "    .dataframe tbody tr th:only-of-type {\n",
       "        vertical-align: middle;\n",
       "    }\n",
       "\n",
       "    .dataframe tbody tr th {\n",
       "        vertical-align: top;\n",
       "    }\n",
       "\n",
       "    .dataframe thead th {\n",
       "        text-align: right;\n",
       "    }\n",
       "</style>\n",
       "<table border=\"1\" class=\"dataframe\">\n",
       "  <thead>\n",
       "    <tr style=\"text-align: right;\">\n",
       "      <th></th>\n",
       "      <th>Aproximación f1(x)</th>\n",
       "      <th>Error f1(x)</th>\n",
       "      <th>Aproximación f2(x)</th>\n",
       "      <th>Error f2(x)</th>\n",
       "    </tr>\n",
       "  </thead>\n",
       "  <tbody>\n",
       "    <tr>\n",
       "      <th>10.0</th>\n",
       "      <td>7.726623</td>\n",
       "      <td>1.634553</td>\n",
       "      <td>0.967939</td>\n",
       "      <td>0.098095</td>\n",
       "    </tr>\n",
       "    <tr>\n",
       "      <th>100.0</th>\n",
       "      <td>5.966200</td>\n",
       "      <td>0.125870</td>\n",
       "      <td>0.924550</td>\n",
       "      <td>0.054706</td>\n",
       "    </tr>\n",
       "    <tr>\n",
       "      <th>1000.0</th>\n",
       "      <td>6.274344</td>\n",
       "      <td>0.182274</td>\n",
       "      <td>0.881403</td>\n",
       "      <td>0.011559</td>\n",
       "    </tr>\n",
       "    <tr>\n",
       "      <th>10000.0</th>\n",
       "      <td>6.119722</td>\n",
       "      <td>0.027652</td>\n",
       "      <td>0.874141</td>\n",
       "      <td>0.004297</td>\n",
       "    </tr>\n",
       "    <tr>\n",
       "      <th>100000.0</th>\n",
       "      <td>6.089499</td>\n",
       "      <td>0.002571</td>\n",
       "      <td>0.868437</td>\n",
       "      <td>0.001407</td>\n",
       "    </tr>\n",
       "  </tbody>\n",
       "</table>\n",
       "</div>"
      ],
      "text/plain": [
       "          Aproximación f1(x)  Error f1(x)  Aproximación f2(x)  Error f2(x)\n",
       "10.0                7.726623     1.634553            0.967939     0.098095\n",
       "100.0               5.966200     0.125870            0.924550     0.054706\n",
       "1000.0              6.274344     0.182274            0.881403     0.011559\n",
       "10000.0             6.119722     0.027652            0.874141     0.004297\n",
       "100000.0            6.089499     0.002571            0.868437     0.001407"
      ]
     },
     "execution_count": 3,
     "metadata": {},
     "output_type": "execute_result"
    }
   ],
   "source": [
    "import numpy as np\n",
    "import pandas as pd\n",
    "\n",
    "def f1(x):\n",
    "    return np.exp(x) * np.log10(x)\n",
    "\n",
    "def f2(x):\n",
    "    return np.sin(x) * np.log(x)\n",
    "\n",
    "a = 1\n",
    "b = 3\n",
    "N = np.logspace(1, 5, 5)\n",
    "table = pd.DataFrame(columns=[], index=N)\n",
    "\n",
    "\n",
    "def montecarlo(f, N, a, b):\n",
    "    u = np.random.uniform(a, b, N)\n",
    "    media = np.mean(f(u))\n",
    "    return media*(b-a)\n",
    "\n",
    "\n",
    "for i in N:\n",
    "    aproximacion1 = montecarlo(f1, int(i), a, b)\n",
    "    aproximacion2 = montecarlo(f2, int(i), a, b)\n",
    "    table.loc[i, \"Aproximación f1(x)\"] =  aproximacion1\n",
    "    table.loc[i, \"Error f1(x)\"] = abs(6.09207 - aproximacion1)\n",
    "    table.loc[i, \"Aproximación f2(x)\"] =  aproximacion2\n",
    "    table.loc[i, \"Error f2(x)\"] = abs(0.869844 - aproximacion2)\n",
    "\n",
    "table"
   ]
  },
  {
   "cell_type": "markdown",
   "metadata": {},
   "source": [
    "2. Aproximar el área de la región descrita por\n",
    "\n",
    "$$x^2+2y^2\\leq-2x+8y-7$$\n",
    "\n",
    "Poner los resultados en una tabla cuyas filas correspondan a la cantidad de términos utilizados en la aproximación (usar 10, 100, 1000, 10000 y 100000 términos) y en las columnas el valor de aproximación y el error relativo.\n",
    "\n",
    "Definir unos límites adecuados $a_1$, $b_1$, $a_2$ y $b_2$, para la región $R=\\left[a_1,b_1\\right]\\times\\left[a_2,b_2\\right]$"
   ]
  },
  {
   "cell_type": "code",
   "execution_count": 31,
   "metadata": {},
   "outputs": [
    {
     "data": {
      "text/plain": [
       "<matplotlib.collections.PathCollection at 0x1fc962e2990>"
      ]
     },
     "execution_count": 31,
     "metadata": {},
     "output_type": "execute_result"
    },
    {
     "data": {
      "image/png": "[encoded data removed]",
      "text/plain": [
       "<Figure size 640x480 with 1 Axes>"
      ]
     },
     "metadata": {},
     "output_type": "display_data"
    }
   ],
   "source": [
    "import pandas as pd\n",
    "import matplotlib.pyplot as plt\n",
    "%matplotlib inline\n",
    "\n",
    "def bernoulli (x, y):\n",
    "    return x**2 + 2*y**2 <= - 2*x + 8*y - 7\n",
    "\n",
    "x = np.random.uniform(-2.5, 0.5, 700)\n",
    "y = np.random.uniform(0.9, 3.1, 700)\n",
    "\n",
    "X, Y = np.meshgrid(x, y)\n",
    "plt.figure()\n",
    "plt.scatter(X, Y, s=1, c=bernoulli(X,Y), cmap=\"Greys\") #cmap: cambia de color el area deseada\n"
   ]
  },
  {
   "cell_type": "code",
   "execution_count": 43,
   "metadata": {},
   "outputs": [
    {
     "data": {
      "text/html": [
       "<div>\n",
       "<style scoped>\n",
       "    .dataframe tbody tr th:only-of-type {\n",
       "        vertical-align: middle;\n",
       "    }\n",
       "\n",
       "    .dataframe tbody tr th {\n",
       "        vertical-align: top;\n",
       "    }\n",
       "\n",
       "    .dataframe thead th {\n",
       "        text-align: right;\n",
       "    }\n",
       "</style>\n",
       "<table border=\"1\" class=\"dataframe\">\n",
       "  <thead>\n",
       "    <tr style=\"text-align: right;\">\n",
       "      <th></th>\n",
       "      <th>Aproximación</th>\n",
       "      <th>Error Relativo</th>\n",
       "    </tr>\n",
       "  </thead>\n",
       "  <tbody>\n",
       "    <tr>\n",
       "      <th>10.0</th>\n",
       "      <td>1.32</td>\n",
       "      <td>-0.19897</td>\n",
       "    </tr>\n",
       "    <tr>\n",
       "      <th>100.0</th>\n",
       "      <td>3.828</td>\n",
       "      <td>-1.070089</td>\n",
       "    </tr>\n",
       "    <tr>\n",
       "      <th>1000.0</th>\n",
       "      <td>4.5012</td>\n",
       "      <td>-1.665679</td>\n",
       "    </tr>\n",
       "    <tr>\n",
       "      <th>10000.0</th>\n",
       "      <td>4.38702</td>\n",
       "      <td>-2.148596</td>\n",
       "    </tr>\n",
       "    <tr>\n",
       "      <th>100000.0</th>\n",
       "      <td>4.448334</td>\n",
       "      <td>-2.657711</td>\n",
       "    </tr>\n",
       "  </tbody>\n",
       "</table>\n",
       "</div>"
      ],
      "text/plain": [
       "         Aproximación Error Relativo\n",
       "10.0             1.32       -0.19897\n",
       "100.0           3.828      -1.070089\n",
       "1000.0         4.5012      -1.665679\n",
       "10000.0       4.38702      -2.148596\n",
       "100000.0     4.448334      -2.657711"
      ]
     },
     "execution_count": 43,
     "metadata": {},
     "output_type": "execute_result"
    }
   ],
   "source": [
    "def montecarlo(region, xa, xb, ya, yb, N):\n",
    "    x = np.random.uniform(xa, xb, N)\n",
    "    y = np.random.uniform(ya, yb, N)\n",
    "    B = region(x, y)\n",
    "    AR = (xb - xa) * (yb - ya)\n",
    "    return np.mean(B) * AR\n",
    "\n",
    "\n",
    "N = np.logspace(1, 5, 5)\n",
    "\n",
    "table = pd.DataFrame(columns=[\"Aproximación\", \"Error Relativo\"], index=N)\n",
    "\n",
    "for i in N:\n",
    "    AR = (0.5 + 2.5) * (3.1 - 0.9)\n",
    "    AD = montecarlo(bernoulli, -2.5, 0.5, 0.9, 3.1, int(i))\n",
    "    C_rel = ((1 - (AD / AR))/(AD / AR))**(1/2)\n",
    "    error = np.log10(C_rel) - ((1/2)*np.log10(i))\n",
    "    \n",
    "    table.loc[i, \"Aproximación\"] =  AD\n",
    "    table.loc[i, \"Error Relativo\"] = error\n",
    "\n",
    "table"
   ]
  },
  {
   "cell_type": "markdown",
   "metadata": {},
   "source": [
    "3. Describe 3 casos de uso de integración Montecarlo en tu ingeniería."
   ]
  },
  {
   "cell_type": "markdown",
   "metadata": {},
   "source": [
    "### Carrera: Ingniería Financiera\n",
    "1. **VaR (Valor en riesgo):**  El VaR es una medida estadística que establece cuanto es el dinero máximo que se puede perder en una inversion dentro de un horizonte de tiempo. Es útil para generar grandes cantidades de posibles resultados que podría tener una inversión con base a datos iniciales reales ingresados previamente.\n",
    "\n",
    "2. **Gestión de riesgos:** Por medio de la simulación de montecarlo se pueden evaluar los riesgos que tiene efectuar ciertos proyectos en las empresas, por lo que, saber que tan probable es que pase algo es útil para las empresas para que preparen soluciones a ellos antes de que pasen.\n",
    "\n",
    "3. **Valuación de opciones en el mercado de derivados:** Es una de las aplicaciones mas comunes de la integración de Montecarlo en mi carrera. Es útil debido a que se trabajan con múltiples escenarios aleatorios, ya que, de que existen opciones llamadas \"americanas\" las cuales se pueden ejercer en cualquier momento, por lo que se plantean modelos matemáticos que solo pueden ser resueltos por métodos numéricos, como la integración de Montecarlo."
   ]
  },
  {
   "cell_type": "markdown",
   "metadata": {},
   "source": [
    "**REFERENCIAS**\n",
    "\n",
    "- MIT (s. f.). Monte Carlo Integration...in a Nutshel. https://ocw.mit.edu/courses/2-086-numerical-computation-for-mechanical-engineers-fall-2014/resources/mit2_086f14_monte_carlo/\n",
    "\n",
    "- Sevilla, A. (s. f.). VaR por Montecarlo. Economipedia. https://economipedia.com/definiciones/var-monte-carlo.html\n",
    "\n",
    "- Martín, Juan. (2007). ▷ ¿Que es el método Monte Carlo? - Gestión de los riesgos. https://www.cerem.es/blog/cuanto-vale-el-riesgo-el-metodo-monte-carlo\n",
    "\n",
    "- Figueroa, A. (2009). Valuación de opciones americanas por el método Montecarlo. biblat. https://biblat.unam.mx/es/revista/revista-mexicana-de-economia-agricola-y-de-los-recursos-naturales/articulo/valuacion-de-opciones-americanas-por-el-metodo-montecarlo"
   ]
  }
 ],
 "metadata": {
  "kernelspec": {
   "display_name": "Python 3 (ipykernel)",
   "language": "python",
   "name": "python3"
  },
  "language_info": {
   "codemirror_mode": {
    "name": "ipython",
    "version": 3
   },
   "file_extension": ".py",
   "mimetype": "text/x-python",
   "name": "python",
   "nbconvert_exporter": "python",
   "pygments_lexer": "ipython3",
   "version": "3.11.4"
  }
 },
 "nbformat": 4,
 "nbformat_minor": 2
}
