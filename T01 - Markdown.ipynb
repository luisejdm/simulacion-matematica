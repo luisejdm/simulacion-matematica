{
 "cells": [
  {
   "cell_type": "markdown",
   "id": "bb20d02b",
   "metadata": {},
   "source": [
    "__Luis Eduardo Jiménez de Muro, 14/08/2023__"
   ]
  },
  {
   "cell_type": "markdown",
   "id": "1abe1936",
   "metadata": {},
   "source": [
    "# T01 - Markdown"
   ]
  },
  {
   "cell_type": "markdown",
   "id": "f1901406",
   "metadata": {},
   "source": [
    "## Presentación"
   ]
  },
  {
   "cell_type": "markdown",
   "id": "d36b5dd6",
   "metadata": {},
   "source": [
    "Mi nombre es _Luis_, tengo 19 años y actualmente me encuentro estudiando mi tercer semestre de ingeniería financiera en el _ITESO_. Nací en _Guadalajara_ y he vivido aquí toda mi vida.\n",
    "\n",
    "Algunas cosas que me gusta hacer en mis tiempos libres son:"
   ]
  },
  {
   "cell_type": "markdown",
   "id": "a035e649",
   "metadata": {},
   "source": [
    "- Tocar el piano\n",
    "- Jugar videojuegos\n",
    "- Ir al cine\n",
    "- Salir con mis amigos\n",
    "- Ver series y películas"
   ]
  },
  {
   "cell_type": "markdown",
   "id": "50380b63",
   "metadata": {},
   "source": [
    "Algunas de las series que mas me gustan son:"
   ]
  },
  {
   "cell_type": "markdown",
   "id": "f021d438",
   "metadata": {},
   "source": [
    "1. Peaky Blinders\n",
    "2. The Boys\n",
    "3. Dark\n",
    "4. Mr. Robot\n",
    "5. Peacemaker"
   ]
  },
  {
   "cell_type": "markdown",
   "id": "cfa8d334",
   "metadata": {},
   "source": [
    "## Introducción a un tema de mi carrera"
   ]
  },
  {
   "cell_type": "markdown",
   "id": "eee11e7c",
   "metadata": {},
   "source": [
    "### _Valor en riesgo_"
   ]
  },
  {
   "cell_type": "markdown",
   "id": "36794380",
   "metadata": {},
   "source": [
    "![](https://tenpo.cl/blog/wp-content/uploads/2022/04/bolsa-de-valores.jpg)"
   ]
  },
  {
   "cell_type": "markdown",
   "id": "b9e7aff8",
   "metadata": {},
   "source": [
    "El VaR (valor en riesgo) es una medida utilizada en finanzas para estimar la pérdida máxima probable en una inversión o cartera en un determinado intervalo de tiempo y con un nivel de confianza específico. En otras palabras, el VaR proporciona una estimación numérica de la cantidad máxima de dinero que se podría perder en una inversión, dado un nivel de riesgo y un horizonte de tiempo determinados.\n",
    "\n",
    "El VaR es una herramienta que nos proporciona una perspectiva clara y cuantificable sobre la posible magnitud de las pérdidas que podríamos enfrentar en diferentes escenarios.\n"
   ]
  },
  {
   "cell_type": "markdown",
   "id": "ce8cf0f0",
   "metadata": {},
   "source": [
    "## Ecuación de la fórmula general"
   ]
  },
  {
   "cell_type": "markdown",
   "id": "6085d008",
   "metadata": {},
   "source": [
    "$$ x = \\frac{-b ± \\sqrt{b^2 - 4ac}}{2a} $$"
   ]
  }
 ],
 "metadata": {
  "kernelspec": {
   "display_name": "Python 3 (ipykernel)",
   "language": "python",
   "name": "python3"
  },
  "language_info": {
   "codemirror_mode": {
    "name": "ipython",
    "version": 3
   },
   "file_extension": ".py",
   "mimetype": "text/x-python",
   "name": "python",
   "nbconvert_exporter": "python",
   "pygments_lexer": "ipython3",
   "version": "3.11.4"
  }
 },
 "nbformat": 4,
 "nbformat_minor": 5
}
